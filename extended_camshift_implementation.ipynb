{
 "cells": [
  {
   "cell_type": "code",
   "execution_count": 11,
   "metadata": {},
   "outputs": [
    {
     "name": "stdout",
     "output_type": "stream",
     "text": [
      "Requirement already satisfied: numpy in c:\\users\\hugor\\appdata\\local\\programs\\python\\python312\\lib\\site-packages (1.26.2)Note: you may need to restart the kernel to use updated packages.\n",
      "\n"
     ]
    },
    {
     "name": "stderr",
     "output_type": "stream",
     "text": [
      "\n",
      "[notice] A new release of pip is available: 23.2.1 -> 23.3.1\n",
      "[notice] To update, run: python.exe -m pip install --upgrade pip\n"
     ]
    },
    {
     "name": "stdout",
     "output_type": "stream",
     "text": [
      "Requirement already satisfied: opencv-python in c:\\users\\hugor\\appdata\\local\\programs\\python\\python312\\lib\\site-packages (4.8.1.78)\n",
      "Requirement already satisfied: numpy>=1.21.2 in c:\\users\\hugor\\appdata\\local\\programs\\python\\python312\\lib\\site-packages (from opencv-python) (1.26.2)\n",
      "Note: you may need to restart the kernel to use updated packages.\n"
     ]
    },
    {
     "name": "stderr",
     "output_type": "stream",
     "text": [
      "\n",
      "[notice] A new release of pip is available: 23.2.1 -> 23.3.1\n",
      "[notice] To update, run: python.exe -m pip install --upgrade pip\n"
     ]
    }
   ],
   "source": [
    "%pip install numpy\n",
    "%pip install opencv-python\n",
    "import numpy as np\n",
    "import cv2"
   ]
  },
  {
   "cell_type": "markdown",
   "metadata": {},
   "source": [
    "Camshift simples, identificando retrovisor de carro. (Exemplo adaptado do código fornecido pela documentação do OpenCV)"
   ]
  },
  {
   "cell_type": "code",
   "execution_count": 17,
   "metadata": {},
   "outputs": [
    {
     "name": "stderr",
     "output_type": "stream",
     "text": [
      "C:\\Users\\hugor\\AppData\\Local\\Temp\\ipykernel_7708\\3989740469.py:47: DeprecationWarning: `np.int0` is a deprecated alias for `np.intp`.  (Deprecated NumPy 1.24)\n",
      "  pts = np.int0(pts)\n"
     ]
    }
   ],
   "source": [
    "cap = cv2.VideoCapture(\"slow_traffic_small.mp4\")\n",
    "\n",
    "if not cap.isOpened():\n",
    "    print(\"Erro ao abrir o vídeo.\")\n",
    "    exit()\n",
    "\n",
    "fps = cap.get(cv2.CAP_PROP_FPS)\n",
    "width = int(cap.get(cv2.CAP_PROP_FRAME_WIDTH))\n",
    "height = int(cap.get(cv2.CAP_PROP_FRAME_HEIGHT))\n",
    "\n",
    "fourcc = cv2.VideoWriter_fourcc(*'XVID')\n",
    "out = cv2.VideoWriter('camshift-output.avi', fourcc, fps, (width, height))\n",
    "\n",
    "ret, frame = cap.read()\n",
    "\n",
    "x, y, w, h = 300, 200, 100, 50\n",
    "track_window = (x, y, w, h)\n",
    "\n",
    "roi = frame[y:y+h, x:x+w]\n",
    "hsv_roi = cv2.cvtColor(roi, cv2.COLOR_BGR2HSV)\n",
    "mask = cv2.inRange(hsv_roi, np.array((0., 60., 32.)), np.array((180., 255., 255.)))\n",
    "roi_hist = cv2.calcHist([hsv_roi], [0], mask, [180], [0, 180])\n",
    "cv2.normalize(roi_hist, roi_hist, 0, 255, cv2.NORM_MINMAX)\n",
    "\n",
    "term_crit = (cv2.TERM_CRITERIA_EPS | cv2.TERM_CRITERIA_COUNT, 10, 1)\n",
    "\n",
    "while True:\n",
    "    ret, frame = cap.read()\n",
    "    if not ret:\n",
    "        break\n",
    "\n",
    "    hsv = cv2.cvtColor(frame, cv2.COLOR_BGR2HSV)\n",
    "\n",
    "    dst = cv2.calcBackProject([hsv], [0], roi_hist, [0, 180], 1)\n",
    "\n",
    "    ret, track_window = cv2.CamShift(dst, track_window, term_crit)\n",
    "\n",
    "    pts = cv2.boxPoints(ret)\n",
    "    pts = np.int0(pts)\n",
    "    img2 = cv2.polylines(frame, [pts], True, 255, 2)\n",
    "\n",
    "    out.write(img2)\n",
    "    cv2.imshow('CAMShift Tracking', img2)\n",
    "    k = cv2.waitKey(30) & 0xff\n",
    "    if k == 27:\n",
    "        break\n",
    "\n",
    "cap.release()\n",
    "out.release()\n",
    "cv2.destroyAllWindows()"
   ]
  },
  {
   "cell_type": "markdown",
   "metadata": {},
   "source": [
    "Extended Camshift Tracker, criado apartir do estudo de David Exner (doi: 10.1109/CVPRW.2010.5543787) usando o exemplo anterior da OpenCV como base"
   ]
  },
  {
   "cell_type": "code",
   "execution_count": 24,
   "metadata": {},
   "outputs": [
    {
     "name": "stderr",
     "output_type": "stream",
     "text": [
      "C:\\Users\\hugor\\AppData\\Local\\Temp\\ipykernel_7708\\475527574.py:28: DeprecationWarning: `np.int0` is a deprecated alias for `np.intp`.  (Deprecated NumPy 1.24)\n",
      "  pts = np.int0(pts)\n"
     ]
    }
   ],
   "source": [
    "class ExtendedCAMShiftTracker:\n",
    "    def __init__(self):\n",
    "        self.accumulated_hist = None\n",
    "        self.track_window = None\n",
    "        self.term_crit = None\n",
    "\n",
    "    def initialize_tracker(self, frame, x, y, w, h):\n",
    "        self.track_window = (x, y, w, h)\n",
    "\n",
    "        roi = frame[y:y+h, x:x+w]\n",
    "        hsv_roi = cv2.cvtColor(roi, cv2.COLOR_BGR2HSV)\n",
    "        mask = cv2.inRange(hsv_roi, np.array((0., 60., 32.)), np.array((180., 255., 255.)))\n",
    "\n",
    "        self.accumulated_hist = cv2.calcHist([hsv_roi], [0], mask, [180], [0, 180])\n",
    "        cv2.normalize(self.accumulated_hist, self.accumulated_hist, 0, 255, cv2.NORM_MINMAX)\n",
    "\n",
    "        self.term_crit = (cv2.TERM_CRITERIA_EPS | cv2.TERM_CRITERIA_COUNT, 10, 1)\n",
    "\n",
    "    def track_frame(self, frame, out):\n",
    "\n",
    "        hsv = cv2.cvtColor(frame, cv2.COLOR_BGR2HSV)\n",
    "\n",
    "        dst = cv2.calcBackProject([hsv], [0], self.accumulated_hist, [0, 180], 1)\n",
    "\n",
    "        ret, self.track_window = cv2.CamShift(dst, self.track_window, self.term_crit)\n",
    "\n",
    "        pts = cv2.boxPoints(ret)\n",
    "        pts = np.int0(pts)\n",
    "        img2 = cv2.polylines(frame, [pts], True, 255, 2)\n",
    "\n",
    "        out.write(img2)\n",
    "        cv2.imshow('Extended CAMShift Tracking', img2)\n",
    "\n",
    "        return frame\n",
    "\n",
    "    def accumulate_histograms(self, reference_histograms):\n",
    "        self.accumulated_hist = np.sum(reference_histograms, axis=0)\n",
    "        self.accumulated_hist = cv2.normalize(self.accumulated_hist, self.accumulated_hist, 0, 255, cv2.NORM_MINMAX)\n",
    "\n",
    "class HierarchicalRedetection:\n",
    "    def __init__(self, width, height):\n",
    "        self.root_search_window = (0, 0, width, height)\n",
    "        self.threshold = 0.8  # Definido arbitrariamente\n",
    "\n",
    "    def check_exit_condition(self, frame):\n",
    "        return np.sum(frame) < self.threshold\n",
    "\n",
    "    def divide_into_quadrants(self, region):\n",
    "        x, y, w, h = region\n",
    "        half_width = w // 2\n",
    "        half_height = h // 2\n",
    "\n",
    "        quadrant1 = (x, y, half_width, half_height)\n",
    "        quadrant2 = (x + half_width, y, half_width, half_height)\n",
    "        quadrant3 = (x, y + half_height, half_width, half_height)\n",
    "        quadrant4 = (x + half_width, y + half_height, half_width, half_height)\n",
    "\n",
    "        return [quadrant1, quadrant2, quadrant3, quadrant4]\n",
    "\n",
    "    def perform_redetection(self, frame, tracker):\n",
    "        quadrants = self.divide_into_quadrants(self.root_search_window)\n",
    "        for quadrant in quadrants:\n",
    "            subframe = frame[quadrant[1]:quadrant[1]+quadrant[3], quadrant[0]:quadrant[0]+quadrant[2]]\n",
    "            if self.check_exit_condition(subframe):\n",
    "                x, y, w, h = quadrant\n",
    "                tracker.initialize_tracker(frame, x, y, w, h)\n",
    "\n",
    "def main():\n",
    "    cap = cv2.VideoCapture(\"slow_traffic_small.mp4\")\n",
    "\n",
    "    if not cap.isOpened():\n",
    "        print(\"Erro ao abrir o vídeo.\")\n",
    "        exit()\n",
    "\n",
    "    fps = cap.get(cv2.CAP_PROP_FPS)\n",
    "    width = int(cap.get(cv2.CAP_PROP_FRAME_WIDTH))\n",
    "    height = int(cap.get(cv2.CAP_PROP_FRAME_HEIGHT))\n",
    "\n",
    "    fourcc = cv2.VideoWriter_fourcc(*'XVID')\n",
    "    out = cv2.VideoWriter('extended_camshift_output.avi', fourcc, fps, (width, height))\n",
    "\n",
    "    ret, frame = cap.read()\n",
    "\n",
    "    tracker = ExtendedCAMShiftTracker()\n",
    "    tracker.initialize_tracker(frame, 300, 200, 100, 50)\n",
    "\n",
    "    redetection = HierarchicalRedetection(width, height)\n",
    "\n",
    "    while True:\n",
    "        ret, frame = cap.read()\n",
    "        if not ret:\n",
    "            break\n",
    "\n",
    "        tracker.initialize_tracker(frame, 300, 200, 100, 50)\n",
    "\n",
    "        frame = tracker.track_frame(frame, out)\n",
    "\n",
    "        redetection.perform_redetection(frame, tracker)\n",
    "\n",
    "        k = cv2.waitKey(30) & 0xff\n",
    "        if k == 27:\n",
    "            break\n",
    "\n",
    "    cap.release()\n",
    "    out.release()\n",
    "    cv2.destroyAllWindows()\n",
    "\n",
    "if __name__ == \"__main__\":\n",
    "    main()\n"
   ]
  }
 ],
 "metadata": {
  "kernelspec": {
   "display_name": "Python 3",
   "language": "python",
   "name": "python3"
  },
  "language_info": {
   "codemirror_mode": {
    "name": "ipython",
    "version": 3
   },
   "file_extension": ".py",
   "mimetype": "text/x-python",
   "name": "python",
   "nbconvert_exporter": "python",
   "pygments_lexer": "ipython3",
   "version": "3.12.0"
  }
 },
 "nbformat": 4,
 "nbformat_minor": 2
}
